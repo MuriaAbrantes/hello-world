{
  "nbformat": 4,
  "nbformat_minor": 0,
  "metadata": {
    "colab": {
      "name": "Trabalho1.ipynb",
      "provenance": [],
      "authorship_tag": "ABX9TyOgJX1txkq7tTyF3y+CXOo2",
      "include_colab_link": true
    },
    "kernelspec": {
      "name": "python3",
      "display_name": "Python 3"
    },
    "language_info": {
      "name": "python"
    }
  },
  "cells": [
    {
      "cell_type": "markdown",
      "metadata": {
        "id": "view-in-github",
        "colab_type": "text"
      },
      "source": [
        "<a href=\"https://colab.research.google.com/github/MuriaAbrantes/hello-world/blob/master/Trabalho1-LogicaDeProgramacao-Uniter.ipynb\" target=\"_parent\"><img src=\"https://colab.research.google.com/assets/colab-badge.svg\" alt=\"Open In Colab\"/></a>"
      ]
    },
    {
      "cell_type": "code",
      "execution_count": 18,
      "metadata": {
        "colab": {
          "base_uri": "https://localhost:8080/"
        },
        "id": "0QNLcbJYJySI",
        "outputId": "7fc15e93-d426-4bd8-ef4f-7f2b0072c401"
      },
      "outputs": [
        {
          "output_type": "stream",
          "name": "stdout",
          "text": [
            "Olá, seja bem vindo a loja da Muria De Oliveira Abrantes!\n",
            "Qual o valor do Produto? 13.0\n",
            "Quantidade de produtos: 700\n",
            "O valor sem desconto: R$ 9100.00.\n",
            "O valor com desconto: R$ 8190.00.\n"
          ]
        }
      ],
      "source": [
        "print(\"Olá, seja bem vindo a loja da Muria De Oliveira Abrantes!\")\n",
        "\n",
        "valorProduto = float (input(\"Qual o valor do Produto? \"))\n",
        "qtProduto = int (input(\"Quantidade de produtos: \"))\n",
        "subTotal = valorProduto * qtProduto\n",
        "\n",
        "if 0 <= qtProduto < 9:\n",
        "      valorFinal = subTotal #nao tem desc, pois tem menos de 10 itens.\n",
        "elif 9 <= qtProduto < 99:\n",
        "      valorFinal = subTotal -  subTotal * 0.05 #desc 5% em compras acima de 10 itens.\n",
        "elif 99 <= qtProduto < 999:\n",
        "      valorFinal = subTotal -  subTotal * 0.10 #desc 7% em compras acima de 100 itens.\n",
        "else: # se a quantidade de itens for maior que 1000: desc 15%.\n",
        "  valorFinal = subTotal - subTotal * 0.15\n",
        "\n",
        "print(\"O valor sem desconto: R$ {:.2f}.\" . format(subTotal))\n",
        "print(\"O valor com desconto: R$ {:.2f}.\" . format(valorFinal))"
      ]
    }
  ]
}